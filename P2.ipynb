{
 "cells": [
  {
   "cell_type": "markdown",
   "metadata": {},
   "source": [
    "# Advanced Lane Finding Project - [P2.ipynb](./P2.ipynb)"
   ]
  },
  {
   "cell_type": "markdown",
   "metadata": {},
   "source": [
    "### Camera Calibration\n",
    "\n",
    "Compute the camera matrix and distortion coefficients."
   ]
  },
  {
   "cell_type": "code",
   "execution_count": null,
   "metadata": {},
   "outputs": [],
   "source": [
    "# Camera Calibration\n",
    "# Compute the camera matrix and distortion coefficients.\n",
    "\n",
    "import numpy as np\n",
    "import cv2\n",
    "import glob\n",
    "import matplotlib.pyplot as plt\n",
    "%matplotlib qt\n",
    "\n",
    "print(\"Hello camera matrix and distortion coefficients!\")"
   ]
  },
  {
   "cell_type": "markdown",
   "metadata": {},
   "source": [
    "### Pipeline - Single (Still) Images"
   ]
  },
  {
   "cell_type": "markdown",
   "metadata": {},
   "source": [
    "1. Provide an example of a distortion-corrected image."
   ]
  },
  {
   "cell_type": "code",
   "execution_count": null,
   "metadata": {},
   "outputs": [],
   "source": [
    "# Pipeline - Single (Still) Images\n",
    "# 1. Provide an example of a distortion-corrected image.\n",
    "\n",
    "print(\"Hello distortion correction!\")"
   ]
  },
  {
   "cell_type": "markdown",
   "metadata": {},
   "source": [
    "2. Discuss how color transforms, gradients, or other methods to create a thresholded binary image were used.  Identify where this was used in the source code.  Provide an example of a binary image result."
   ]
  },
  {
   "cell_type": "code",
   "execution_count": null,
   "metadata": {},
   "outputs": [],
   "source": [
    "# Pipeline - Single (Still) Images\n",
    "# 2. Discuss how color transforms, gradients, or other methods to create a thresholded binary image were used.  \n",
    "#    Identify where this was used in the source code.  \n",
    "#    Provide an example of a binary image result.\n",
    "\n",
    "print(\"Hello 2. Discuss how color transforms, gradients, or other methods!\")\n"
   ]
  },
  {
   "cell_type": "markdown",
   "metadata": {},
   "source": [
    "3. Discuss how the perspective transform was performed.  Identify where this was used in the source code.  Provide an example of a resulting transformed image.  "
   ]
  },
  {
   "cell_type": "code",
   "execution_count": null,
   "metadata": {},
   "outputs": [],
   "source": [
    "# Pipeline - Single (Still) Images\n",
    "# 3. Discuss how the perspective transform was performed.  \n",
    "#    Provide an example of a resulting transformed image.  \n",
    "\n",
    "print(\"Hello Discuss how the perspective transform was performed!\")"
   ]
  },
  {
   "cell_type": "markdown",
   "metadata": {},
   "source": [
    "4. Discuss how lane-line pixels were identified, and how their positions were fit with a polynomial.  Identify where this was used in the source code."
   ]
  },
  {
   "cell_type": "code",
   "execution_count": null,
   "metadata": {},
   "outputs": [],
   "source": [
    "# Pipeline - Single (Still) Images\n",
    "# 4. Discuss how lane-line pixels were identified, \n",
    "#    and how their positions were fit with a polynomial.  \n",
    "\n",
    "print(\"Hello 4. Discuss how lane-line pixels were identified!\")"
   ]
  },
  {
   "cell_type": "markdown",
   "metadata": {},
   "source": [
    "5. Discuss how the radius of curvature of the lane and the position of the vehicle with respect to center were calculated.  Identify where this was used in the source code."
   ]
  },
  {
   "cell_type": "code",
   "execution_count": null,
   "metadata": {},
   "outputs": [],
   "source": [
    "# Pipeline - Single (Still) Images\n",
    "# 5. Discuss how the radius of curvature of the lane and the position of the vehicle \n",
    "#    with respect to center were calculated .  \n",
    "\n",
    "print(\"Hello 5. Discuss how the radius of curvature of the lane!\")"
   ]
  },
  {
   "cell_type": "markdown",
   "metadata": {},
   "source": [
    "6. Provide an example image of the result plotted back down onto the road such that the lane area is identified clearly."
   ]
  },
  {
   "cell_type": "code",
   "execution_count": null,
   "metadata": {},
   "outputs": [],
   "source": [
    "# Pipeline - Single (Still) Images\n",
    "# 6. Provide an example image of the result plotted \n",
    "#    back down onto the road such that the lane area is identified clearly.\n",
    "\n",
    "print(\"Hello 6. Provide an example image of the result plotted!\")\n"
   ]
  },
  {
   "cell_type": "markdown",
   "metadata": {},
   "source": [
    "### Video Pipeline\n",
    "\n",
    "Provide a link to the final video output.  The pipeline should perform reasonably well on the entire project video.  In other words, wobbly lines are acceptable, but catastrophic failures that would cause the car to drive off the road are not!."
   ]
  },
  {
   "cell_type": "code",
   "execution_count": null,
   "metadata": {},
   "outputs": [],
   "source": [
    "# Video Pipeline\n",
    "# Provide a link to the final video output.  \n",
    "# The pipeline should perform reasonably well on the entire project video.  \n",
    "# In other words, wobbly lines are acceptable, \n",
    "# but catastrophic failures that would cause the car to drive off the road are not!.\n",
    "\n",
    "print(\"Hello Video Pipeline!\")\n"
   ]
  },
  {
   "cell_type": "markdown",
   "metadata": {},
   "source": [
    "### Final Discussion\n",
    "\n",
    "Discuss any problems or issues you faced during the implementation of this project.  "
   ]
  },
  {
   "cell_type": "code",
   "execution_count": null,
   "metadata": {},
   "outputs": [],
   "source": [
    "# Final Discussion\n",
    "# Discuss any problems or issues you faced during the implementation of this project.  \n",
    "# I like pizza."
   ]
  }
 ],
 "metadata": {
  "kernelspec": {
   "display_name": "Python 3",
   "language": "python",
   "name": "python3"
  },
  "language_info": {
   "codemirror_mode": {
    "name": "ipython",
    "version": 3
   },
   "file_extension": ".py",
   "mimetype": "text/x-python",
   "name": "python",
   "nbconvert_exporter": "python",
   "pygments_lexer": "ipython3",
   "version": "3.5.2"
  },
  "widgets": {
   "state": {},
   "version": "1.1.2"
  }
 },
 "nbformat": 4,
 "nbformat_minor": 2
}
