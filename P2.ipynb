{
 "cells": [
  {
   "cell_type": "markdown",
   "metadata": {},
   "source": [
    "# Advanced Lane Finding Project - [P2.ipynb](./P2.ipynb)"
   ]
  },
  {
   "cell_type": "markdown",
   "metadata": {},
   "source": [
    "### Camera Calibration\n",
    "\n",
    "Compute the camera matrix and distortion coefficients."
   ]
  },
  {
   "cell_type": "code",
   "execution_count": null,
   "metadata": {},
   "outputs": [],
   "source": [
    "# Camera Calibration\n",
    "# Compute the camera matrix and distortion coefficients.\n",
    "\n",
    "import numpy as np\n",
    "import cv2\n",
    "import glob\n",
    "import matplotlib.pyplot as plt\n",
    "import matplotlib.image as mpimg\n",
    "import os\n",
    "from os import path\n",
    "\n",
    "%matplotlib qt\n",
    "%matplotlib inline\n",
    "\n",
    "\n",
    "\n",
    "# Take an image, object points, and image points,\n",
    "# perform camera calibration, image distortion correction, and \n",
    "# return the undistorted image\n",
    "def cal_undistort(img, objpoints, imgpoints):\n",
    "    \n",
    "    ret, mtx, dist, rvecs, tvecs = cv2.calibrateCamera(objpoints, imgpoints, img.shape[1::-1], None, None)\n",
    "    undist = cv2.undistort(img, mtx, dist, None, mtx)\n",
    "    \n",
    "    return undist\n",
    "\n",
    "# prepare object points, like (0,0,0), (1,0,0), (2,0,0) ....,(6,5,0)\n",
    "objp = np.zeros((6*9,3), np.float32)\n",
    "objp[:,:2] = np.mgrid[0:9,0:6].T.reshape(-1,2)\n",
    "\n",
    "# Arrays to store object points and image points from all the images.\n",
    "objpoints = [] # 3d points in real world space\n",
    "imgpoints = [] # 2d points in image plane.\n",
    "\n",
    "# Make a list of calibration images\n",
    "images = glob.glob('./camera_cal/calibration*.jpg')\n",
    "cal_orig_img = mpimg.imread('./camera_cal/calibration1.jpg')\n",
    "\n",
    "# Step through the list of provided calibration images and search for chessboard corners\n",
    "for fname in images:\n",
    "    img = cv2.imread(fname)\n",
    "    gray = cv2.cvtColor(img,cv2.COLOR_BGR2GRAY)\n",
    "\n",
    "    # Find the chessboard corners (9 x 6)\n",
    "    ret, corners = cv2.findChessboardCorners(gray, (9, 6), None)\n",
    "\n",
    "    # If found, add object points, image points\n",
    "    if ret == True:\n",
    "        objpoints.append(objp)\n",
    "        imgpoints.append(corners)\n",
    "\n",
    "        # Draw and display the corners\n",
    "        cc_img = cv2.drawChessboardCorners(img, (9, 6), corners, ret)\n",
    "        cv2.imshow('img',img)\n",
    "        cv2.waitKey(500)\n",
    "                \n",
    "cv2.destroyAllWindows()\n",
    "\n",
    "# Calibrate and undistort images\n",
    "for fname in images:\n",
    "    img = cv2.imread(fname)\n",
    "\n",
    "    undistorted_img = cal_undistort(img, objpoints, imgpoints)\n",
    "    cv2.imshow('undistorted_img',undistorted_img)\n",
    "    cv2.waitKey(500)\n",
    "    \n",
    "    outfname = fname.replace(\"camera_cal\",\"output_images\") \n",
    "    outfname = outfname.replace(\".jpg\",\"\") \n",
    "    mpimg.imsave(outfname + \"_output.png\", undistorted_img)\n",
    "    \n",
    "cv2.destroyAllWindows()\n",
    "\n",
    "calibrated_img = mpimg.imread('./output_images/calibration1_output.png')\n",
    "\n",
    "# Show original and final output images\n",
    "fig, ax = plt.subplots(1, 2, figsize=(16, 16))\n",
    "ax[0].set_title('Original Image')\n",
    "ax[0].imshow(cal_orig_img)\n",
    "ax[1].set_title('Undistorted (Calibrated) Image')\n",
    "ax[1].imshow(calibrated_img)\n",
    "plt.savefig('./output_images/calibration1_orig_cal.png')"
   ]
  },
  {
   "cell_type": "markdown",
   "metadata": {},
   "source": [
    "### Pipeline - Single (Still) Images"
   ]
  },
  {
   "cell_type": "markdown",
   "metadata": {},
   "source": [
    "1. Provide an example of a distortion-corrected image."
   ]
  },
  {
   "cell_type": "code",
   "execution_count": null,
   "metadata": {},
   "outputs": [],
   "source": [
    "# Pipeline - Single (Still) Images\n",
    "# 1. Provide an example of a distortion-corrected image.\n",
    "\n",
    "print(\"Hello distortion correction!\")"
   ]
  },
  {
   "cell_type": "markdown",
   "metadata": {},
   "source": [
    "2. Discuss how color transforms, gradients, or other methods to create a thresholded binary image were used.  Identify where this was used in the source code.  Provide an example of a binary image result."
   ]
  },
  {
   "cell_type": "code",
   "execution_count": null,
   "metadata": {},
   "outputs": [],
   "source": [
    "# Pipeline - Single (Still) Images\n",
    "# 2. Discuss how color transforms, gradients, or other methods to create a thresholded binary image were used.  \n",
    "#    Identify where this was used in the source code.  \n",
    "#    Provide an example of a binary image result.\n",
    "\n",
    "print(\"Hello 2. Discuss how color transforms, gradients, or other methods!\")\n"
   ]
  },
  {
   "cell_type": "markdown",
   "metadata": {},
   "source": [
    "3. Discuss how the perspective transform was performed.  Identify where this was used in the source code.  Provide an example of a resulting transformed image.  "
   ]
  },
  {
   "cell_type": "code",
   "execution_count": null,
   "metadata": {},
   "outputs": [],
   "source": [
    "# Pipeline - Single (Still) Images\n",
    "# 3. Discuss how the perspective transform was performed.  \n",
    "#    Provide an example of a resulting transformed image.  \n",
    "\n",
    "print(\"Hello Discuss how the perspective transform was performed!\")"
   ]
  },
  {
   "cell_type": "markdown",
   "metadata": {},
   "source": [
    "4. Discuss how lane-line pixels were identified, and how their positions were fit with a polynomial.  Identify where this was used in the source code."
   ]
  },
  {
   "cell_type": "code",
   "execution_count": null,
   "metadata": {},
   "outputs": [],
   "source": [
    "# Pipeline - Single (Still) Images\n",
    "# 4. Discuss how lane-line pixels were identified, \n",
    "#    and how their positions were fit with a polynomial.  \n",
    "\n",
    "print(\"Hello 4. Discuss how lane-line pixels were identified!\")"
   ]
  },
  {
   "cell_type": "markdown",
   "metadata": {},
   "source": [
    "5. Discuss how the radius of curvature of the lane and the position of the vehicle with respect to center were calculated.  Identify where this was used in the source code."
   ]
  },
  {
   "cell_type": "code",
   "execution_count": null,
   "metadata": {},
   "outputs": [],
   "source": [
    "# Pipeline - Single (Still) Images\n",
    "# 5. Discuss how the radius of curvature of the lane and the position of the vehicle \n",
    "#    with respect to center were calculated .  \n",
    "\n",
    "print(\"Hello 5. Discuss how the radius of curvature of the lane!\")"
   ]
  },
  {
   "cell_type": "markdown",
   "metadata": {},
   "source": [
    "6. Provide an example image of the result plotted back down onto the road such that the lane area is identified clearly."
   ]
  },
  {
   "cell_type": "code",
   "execution_count": null,
   "metadata": {},
   "outputs": [],
   "source": [
    "# Pipeline - Single (Still) Images\n",
    "# 6. Provide an example image of the result plotted \n",
    "#    back down onto the road such that the lane area is identified clearly.\n",
    "\n",
    "print(\"Hello 6. Provide an example image of the result plotted!\")\n"
   ]
  },
  {
   "cell_type": "markdown",
   "metadata": {},
   "source": [
    "### Video Pipeline\n",
    "\n",
    "Provide a link to the final video output.  The pipeline should perform reasonably well on the entire project video.  In other words, wobbly lines are acceptable, but catastrophic failures that would cause the car to drive off the road are not!."
   ]
  },
  {
   "cell_type": "code",
   "execution_count": null,
   "metadata": {},
   "outputs": [],
   "source": [
    "# Video Pipeline\n",
    "# Provide a link to the final video output.  \n",
    "# The pipeline should perform reasonably well on the entire project video.  \n",
    "# In other words, wobbly lines are acceptable, \n",
    "# but catastrophic failures that would cause the car to drive off the road are not!.\n",
    "\n",
    "print(\"Hello Video Pipeline!\")\n"
   ]
  },
  {
   "cell_type": "markdown",
   "metadata": {},
   "source": [
    "### Final Discussion\n",
    "\n",
    "Discuss any problems or issues you faced during the implementation of this project.  "
   ]
  },
  {
   "cell_type": "code",
   "execution_count": null,
   "metadata": {},
   "outputs": [],
   "source": [
    "# Final Discussion\n",
    "# Discuss any problems or issues you faced during the implementation of this project.  \n",
    "# I like pizza.# I like pizza.# I like pizza.# I like pizza.# I like pizza.# I like pizza.\n",
    "# I like pizza.# I like pizza.# I like pizza.# I like pizza.# I like pizza.# I like pizza.\n",
    "# I like pizza.# I like pizza.# I like pizza.# I like pizza.# I like pizza.# I like pizza."
   ]
  }
 ],
 "metadata": {
  "kernelspec": {
   "display_name": "Python 3",
   "language": "python",
   "name": "python3"
  },
  "language_info": {
   "codemirror_mode": {
    "name": "ipython",
    "version": 3
   },
   "file_extension": ".py",
   "mimetype": "text/x-python",
   "name": "python",
   "nbconvert_exporter": "python",
   "pygments_lexer": "ipython3",
   "version": "3.5.2"
  },
  "widgets": {
   "state": {},
   "version": "1.1.2"
  }
 },
 "nbformat": 4,
 "nbformat_minor": 2
}
