{
 "cells": [
  {
   "cell_type": "markdown",
   "metadata": {},
   "source": [
    "## This is the second project"
   ]
  },
  {
   "cell_type": "code",
   "execution_count": 1,
   "metadata": {},
   "outputs": [
    {
     "name": "stdout",
     "output_type": "stream",
     "text": [
      "Hello!\n",
      "4.1.2\n",
      "World!\n"
     ]
    }
   ],
   "source": [
    "import numpy as np\n",
    "import cv2\n",
    "import glob\n",
    "import matplotlib.pyplot as plt\n",
    "%matplotlib qt\n",
    "\n",
    "print(\"Hello!\")\n",
    "print(cv2.__version__)\n",
    "print(\"World!\")"
   ]
  },
  {
   "cell_type": "code",
   "execution_count": 2,
   "metadata": {},
   "outputs": [
    {
     "name": "stdout",
     "output_type": "stream",
     "text": [
      "['', '/opt/ros/melodic/lib/python2.7/dist-packages', '/home/ian/anaconda3/envs/carnd-term1/lib/python35.zip', '/home/ian/anaconda3/envs/carnd-term1/lib/python3.5', '/home/ian/anaconda3/envs/carnd-term1/lib/python3.5/plat-linux', '/home/ian/anaconda3/envs/carnd-term1/lib/python3.5/lib-dynload', '/home/ian/anaconda3/envs/carnd-term1/lib/python3.5/site-packages', '/home/ian/anaconda3/envs/carnd-term1/lib/python3.5/site-packages/IPython/extensions', '/home/ian/.ipython']\n"
     ]
    },
    {
     "data": {
      "text/plain": [
       "'/home/ian/anaconda3/envs/carnd-term1/lib/python3.5/site-packages/cv2/cv2.cpython-35m-x86_64-linux-gnu.so'"
      ]
     },
     "execution_count": 2,
     "metadata": {},
     "output_type": "execute_result"
    }
   ],
   "source": [
    "import sys\n",
    "print(sys.path)\n",
    "\n",
    "cv2.__file__"
   ]
  },
  {
   "cell_type": "code",
   "execution_count": 3,
   "metadata": {},
   "outputs": [],
   "source": [
    "%matplotlib inline"
   ]
  },
  {
   "cell_type": "code",
   "execution_count": 4,
   "metadata": {},
   "outputs": [
    {
     "name": "stdout",
     "output_type": "stream",
     "text": [
      "Warning: Cannot change to a different GUI toolkit: notebook. Using qt instead.\n"
     ]
    }
   ],
   "source": [
    "%matplotlib notebook"
   ]
  },
  {
   "cell_type": "code",
   "execution_count": 5,
   "metadata": {},
   "outputs": [],
   "source": [
    "%gui qt"
   ]
  },
  {
   "cell_type": "code",
   "execution_count": 6,
   "metadata": {},
   "outputs": [],
   "source": [
    "%matplotlib qt"
   ]
  },
  {
   "cell_type": "code",
   "execution_count": 7,
   "metadata": {},
   "outputs": [
    {
     "name": "stdout",
     "output_type": "stream",
     "text": [
      "['', '/opt/ros/melodic/lib/python2.7/dist-packages', '/home/ian/anaconda3/envs/carnd-term1/lib/python35.zip', '/home/ian/anaconda3/envs/carnd-term1/lib/python3.5', '/home/ian/anaconda3/envs/carnd-term1/lib/python3.5/plat-linux', '/home/ian/anaconda3/envs/carnd-term1/lib/python3.5/lib-dynload', '/home/ian/anaconda3/envs/carnd-term1/lib/python3.5/site-packages', '/home/ian/anaconda3/envs/carnd-term1/lib/python3.5/site-packages/IPython/extensions', '/home/ian/.ipython']\n"
     ]
    },
    {
     "data": {
      "text/plain": [
       "'/home/ian/anaconda3/envs/carnd-term1/lib/python3.5/site-packages/cv2/cv2.cpython-35m-x86_64-linux-gnu.so'"
      ]
     },
     "execution_count": 7,
     "metadata": {},
     "output_type": "execute_result"
    }
   ],
   "source": [
    "import sys\n",
    "print(sys.path)\n",
    "\n",
    "cv2.__file__"
   ]
  },
  {
   "cell_type": "code",
   "execution_count": null,
   "metadata": {},
   "outputs": [],
   "source": []
  }
 ],
 "metadata": {
  "kernelspec": {
   "display_name": "Python 3",
   "language": "python",
   "name": "python3"
  },
  "language_info": {
   "codemirror_mode": {
    "name": "ipython",
    "version": 3
   },
   "file_extension": ".py",
   "mimetype": "text/x-python",
   "name": "python",
   "nbconvert_exporter": "python",
   "pygments_lexer": "ipython3",
   "version": "3.5.2"
  },
  "widgets": {
   "state": {},
   "version": "1.1.2"
  }
 },
 "nbformat": 4,
 "nbformat_minor": 2
}
